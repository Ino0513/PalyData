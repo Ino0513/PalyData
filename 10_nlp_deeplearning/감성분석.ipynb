{
 "cells": [
  {
   "cell_type": "code",
   "execution_count": 10,
   "metadata": {},
   "outputs": [
    {
     "name": "stdout",
     "output_type": "stream",
     "text": [
      "Requirement already satisfied: korpora in c:\\users\\user\\anaconda3\\envs\\env01\\lib\\site-packages (0.2.0)\n",
      "Requirement already satisfied: dataclasses>=0.6 in c:\\users\\user\\anaconda3\\envs\\env01\\lib\\site-packages (from korpora) (0.6)\n",
      "Requirement already satisfied: numpy>=1.18.0 in c:\\users\\user\\anaconda3\\envs\\env01\\lib\\site-packages (from korpora) (1.26.4)\n",
      "Requirement already satisfied: tqdm>=4.46.0 in c:\\users\\user\\anaconda3\\envs\\env01\\lib\\site-packages (from korpora) (4.66.4)\n",
      "Requirement already satisfied: requests>=2.20.0 in c:\\users\\user\\anaconda3\\envs\\env01\\lib\\site-packages (from korpora) (2.31.0)\n",
      "Requirement already satisfied: xlrd>=1.2.0 in c:\\users\\user\\anaconda3\\envs\\env01\\lib\\site-packages (from korpora) (2.0.1)\n",
      "Requirement already satisfied: charset-normalizer<4,>=2 in c:\\users\\user\\anaconda3\\envs\\env01\\lib\\site-packages (from requests>=2.20.0->korpora) (3.3.2)\n",
      "Requirement already satisfied: idna<4,>=2.5 in c:\\users\\user\\anaconda3\\envs\\env01\\lib\\site-packages (from requests>=2.20.0->korpora) (3.7)\n",
      "Requirement already satisfied: urllib3<3,>=1.21.1 in c:\\users\\user\\anaconda3\\envs\\env01\\lib\\site-packages (from requests>=2.20.0->korpora) (2.2.1)\n",
      "Requirement already satisfied: certifi>=2017.4.17 in c:\\users\\user\\anaconda3\\envs\\env01\\lib\\site-packages (from requests>=2.20.0->korpora) (2024.2.2)\n",
      "Requirement already satisfied: colorama in c:\\users\\user\\anaconda3\\envs\\env01\\lib\\site-packages (from tqdm>=4.46.0->korpora) (0.4.6)\n",
      "Requirement already satisfied: jpype1 in c:\\users\\user\\anaconda3\\envs\\env01\\lib\\site-packages (1.5.0)\n",
      "Requirement already satisfied: konlpy in c:\\users\\user\\anaconda3\\envs\\env01\\lib\\site-packages (0.6.0)\n",
      "Requirement already satisfied: packaging in c:\\users\\user\\anaconda3\\envs\\env01\\lib\\site-packages (from jpype1) (24.0)\n",
      "Requirement already satisfied: lxml>=4.1.0 in c:\\users\\user\\anaconda3\\envs\\env01\\lib\\site-packages (from konlpy) (5.2.2)\n",
      "Requirement already satisfied: numpy>=1.6 in c:\\users\\user\\anaconda3\\envs\\env01\\lib\\site-packages (from konlpy) (1.26.4)\n"
     ]
    }
   ],
   "source": [
    "!pip install korpora\n",
    "!pip install jpype1 konlpy"
   ]
  },
  {
   "cell_type": "code",
   "execution_count": 11,
   "metadata": {},
   "outputs": [],
   "source": [
    "import torch\n",
    "import torch.nn as nn\n",
    "import pandas as pretrained_models\n",
    "\n",
    "import re\n",
    "import string\n",
    "\n",
    "from Korpora import Korpora\n",
    "from konlpy.tag import Okt\n",
    "\n",
    "device = 'cuda' if torch.cuda.is_available() else 'cpu'"
   ]
  },
  {
   "cell_type": "code",
   "execution_count": 12,
   "metadata": {},
   "outputs": [
    {
     "name": "stdout",
     "output_type": "stream",
     "text": [
      "\n",
      "    Korpora 는 다른 분들이 연구 목적으로 공유해주신 말뭉치들을\n",
      "    손쉽게 다운로드, 사용할 수 있는 기능만을 제공합니다.\n",
      "\n",
      "    말뭉치들을 공유해 주신 분들에게 감사드리며, 각 말뭉치 별 설명과 라이센스를 공유 드립니다.\n",
      "    해당 말뭉치에 대해 자세히 알고 싶으신 분은 아래의 description 을 참고,\n",
      "    해당 말뭉치를 연구/상용의 목적으로 이용하실 때에는 아래의 라이센스를 참고해 주시기 바랍니다.\n",
      "\n",
      "    # Description\n",
      "    Author : e9t@github\n",
      "    Repository : https://github.com/e9t/nsmc\n",
      "    References : www.lucypark.kr/docs/2015-pyconkr/#39\n",
      "\n",
      "    Naver sentiment movie corpus v1.0\n",
      "    This is a movie review dataset in the Korean language.\n",
      "    Reviews were scraped from Naver Movies.\n",
      "\n",
      "    The dataset construction is based on the method noted in\n",
      "    [Large movie review dataset][^1] from Maas et al., 2011.\n",
      "\n",
      "    [^1]: http://ai.stanford.edu/~amaas/data/sentiment/\n",
      "\n",
      "    # License\n",
      "    CC0 1.0 Universal (CC0 1.0) Public Domain Dedication\n",
      "    Details in https://creativecommons.org/publicdomain/zero/1.0/\n",
      "\n",
      "[Korpora] Corpus `nsmc` is already installed at C:\\Users\\USER\\Korpora\\nsmc\\ratings_train.txt\n",
      "[Korpora] Corpus `nsmc` is already installed at C:\\Users\\USER\\Korpora\\nsmc\\ratings_test.txt\n"
     ]
    }
   ],
   "source": [
    "# data 다운로드\n",
    "corpus = Korpora.load('nsmc')"
   ]
  },
  {
   "cell_type": "code",
   "execution_count": 13,
   "metadata": {},
   "outputs": [],
   "source": [
    "# text와 label 추출\n",
    "all_text = corpus.get_all_texts()\n",
    "all_label = corpus.get_all_labels()\n",
    "\n",
    "# train, test set 생성\n",
    "train = corpus.train\n",
    "test = corpus.test"
   ]
  },
  {
   "cell_type": "code",
   "execution_count": 16,
   "metadata": {},
   "outputs": [],
   "source": [
    "# 전처리 함수\n",
    "def text_preprocessing(text, tokenizer):    \n",
    "    text = text.lower() # 소문자화\n",
    "    text = re.sub(f'[{string.punctuation}]', ' ', text) # 구두점 제거\n",
    "    text = tokenizer.morphs(text, stem= True) # stem -> 어간 추출 여부\n",
    "    \n",
    "    return ' '.join(text)"
   ]
  },
  {
   "cell_type": "code",
   "execution_count": 17,
   "metadata": {},
   "outputs": [
    {
     "data": {
      "text/plain": [
       "'이 movie 정말 재미 있다 꼭 보다 저기 있다'"
      ]
     },
     "execution_count": 17,
     "metadata": {},
     "output_type": "execute_result"
    }
   ],
   "source": [
    "text = \"이 Movie 정말 재미 있어요....,!!!!!!. 꼭보세요.### 저기 있네요.\"\n",
    "okt = Okt()\n",
    "text_preprocessing(text, okt)"
   ]
  },
  {
   "cell_type": "code",
   "execution_count": 18,
   "metadata": {},
   "outputs": [
    {
     "name": "stdout",
     "output_type": "stream",
     "text": [
      "Requirement already satisfied: tokenizers in c:\\users\\user\\anaconda3\\envs\\env01\\lib\\site-packages (0.19.1)\n",
      "Requirement already satisfied: huggingface-hub<1.0,>=0.16.4 in c:\\users\\user\\anaconda3\\envs\\env01\\lib\\site-packages (from tokenizers) (0.23.3)\n",
      "Requirement already satisfied: filelock in c:\\users\\user\\anaconda3\\envs\\env01\\lib\\site-packages (from huggingface-hub<1.0,>=0.16.4->tokenizers) (3.14.0)\n",
      "Requirement already satisfied: fsspec>=2023.5.0 in c:\\users\\user\\anaconda3\\envs\\env01\\lib\\site-packages (from huggingface-hub<1.0,>=0.16.4->tokenizers) (2024.5.0)\n",
      "Requirement already satisfied: packaging>=20.9 in c:\\users\\user\\anaconda3\\envs\\env01\\lib\\site-packages (from huggingface-hub<1.0,>=0.16.4->tokenizers) (24.0)\n",
      "Requirement already satisfied: pyyaml>=5.1 in c:\\users\\user\\anaconda3\\envs\\env01\\lib\\site-packages (from huggingface-hub<1.0,>=0.16.4->tokenizers) (6.0.1)\n",
      "Requirement already satisfied: requests in c:\\users\\user\\anaconda3\\envs\\env01\\lib\\site-packages (from huggingface-hub<1.0,>=0.16.4->tokenizers) (2.31.0)\n",
      "Requirement already satisfied: tqdm>=4.42.1 in c:\\users\\user\\anaconda3\\envs\\env01\\lib\\site-packages (from huggingface-hub<1.0,>=0.16.4->tokenizers) (4.66.4)\n",
      "Requirement already satisfied: typing-extensions>=3.7.4.3 in c:\\users\\user\\anaconda3\\envs\\env01\\lib\\site-packages (from huggingface-hub<1.0,>=0.16.4->tokenizers) (4.11.0)\n",
      "Requirement already satisfied: colorama in c:\\users\\user\\anaconda3\\envs\\env01\\lib\\site-packages (from tqdm>=4.42.1->huggingface-hub<1.0,>=0.16.4->tokenizers) (0.4.6)\n",
      "Requirement already satisfied: charset-normalizer<4,>=2 in c:\\users\\user\\anaconda3\\envs\\env01\\lib\\site-packages (from requests->huggingface-hub<1.0,>=0.16.4->tokenizers) (3.3.2)\n",
      "Requirement already satisfied: idna<4,>=2.5 in c:\\users\\user\\anaconda3\\envs\\env01\\lib\\site-packages (from requests->huggingface-hub<1.0,>=0.16.4->tokenizers) (3.7)\n",
      "Requirement already satisfied: urllib3<3,>=1.21.1 in c:\\users\\user\\anaconda3\\envs\\env01\\lib\\site-packages (from requests->huggingface-hub<1.0,>=0.16.4->tokenizers) (2.2.1)\n",
      "Requirement already satisfied: certifi>=2017.4.17 in c:\\users\\user\\anaconda3\\envs\\env01\\lib\\site-packages (from requests->huggingface-hub<1.0,>=0.16.4->tokenizers) (2024.2.2)\n"
     ]
    }
   ],
   "source": [
    "! pip install tokenizers"
   ]
  },
  {
   "cell_type": "code",
   "execution_count": 19,
   "metadata": {},
   "outputs": [],
   "source": [
    "from tokenizers import Tokenizer\n",
    "from tokenizers.models import BPE\n",
    "from tokenizers.pre_tokenizers import Whitespace\n",
    "from tokenizers.trainers import BpeTrainer"
   ]
  },
  {
   "cell_type": "code",
   "execution_count": 21,
   "metadata": {},
   "outputs": [],
   "source": [
    "# 전처리한 text 저장 경로\n",
    "corpus_path = 'datasets/nsmc_morphs.txt'\n",
    "\n",
    "# 모든 원소를 하나의 string으로\n",
    "with open(corpus_path, 'wt', encoding= 'utf-8') as fw:\n",
    "    fw.write('\\n'.join(all_text))\n",
    "\n",
    "# hugginhface tokenizer lib 사용\n",
    "# subword 방식(BPE)\n",
    "vocab_size = 30000  # 최대 단어수\n",
    "min_frequency = 5   # 최소 빈도수 조건\n",
    "\n",
    "tk = Tokenizer(\n",
    "    BPE(unk_token= '[UNK]') # unknown 토큰 - 모르는 토큰 표시\n",
    ")\n",
    "tk.pre_tokenizer = Whitespace() # 공백을 기준\n",
    "\n",
    "trainer = BpeTrainer(\n",
    "    vocab_size= vocab_size,\n",
    "    min_frequency= min_frequency,\n",
    "    special_tokens= ['[PAD', '[UNK]'], # 사용자가 등록하는 토큰들, 특정 의미를 가지는 토큰들을 추가\n",
    ")"
   ]
  },
  {
   "cell_type": "code",
   "execution_count": 22,
   "metadata": {},
   "outputs": [],
   "source": [
    "# 학습\n",
    "tk.train([corpus_path], trainer= trainer)\n",
    "\n",
    "# tokenizer 저장\n",
    "tk.save('models.msmc_bpe.json')\n",
    "\n",
    "# load_tk = Tokenizr.from_file(경로)"
   ]
  },
  {
   "cell_type": "code",
   "execution_count": 26,
   "metadata": {},
   "outputs": [
    {
     "name": "stdout",
     "output_type": "stream",
     "text": [
      "16959\n",
      "한층\n",
      "None\n",
      "num of total token 30000\n"
     ]
    }
   ],
   "source": [
    "# tokenizer 조회\n",
    "# 문자열 토큰 -> 정수 index, 없으면 None\n",
    "print(tk.token_to_id('한층'))\n",
    "\n",
    "# 정수 index -> 문자열 토큰, 없으면 None\n",
    "print(tk.id_to_token(16959))\n",
    "print(tk.id_to_token(30000))\n",
    "\n",
    "print('num of total token', tk.get_vocab_size())\n",
    "\n",
    "# 전체 token 조회 (token : id 형태의 dict)\n",
    "# tk.get_vocab() "
   ]
  },
  {
   "cell_type": "code",
   "execution_count": 28,
   "metadata": {},
   "outputs": [],
   "source": [
    "# pytorch Dataset, DataLoader 생성\n",
    "tk.token_to_id('[PAD]')"
   ]
  },
  {
   "cell_type": "code",
   "execution_count": 33,
   "metadata": {},
   "outputs": [],
   "source": [
    "from torch.utils.data import Dataset, DataLoader\n",
    "\n",
    "class NSMCDataset(Dataset):\n",
    "    def __init__(self, text, label, max_length, tokenizer):\n",
    "        self.text= text             # 전체 input\n",
    "        self.label= label           # 전체 label\n",
    "        self.max_length= max_length # text의 최대 토큰수\n",
    "        self.tokenizer= tokenizer\n",
    "\n",
    "    def __getitem__(self, idx):\n",
    "        text= self.text[idx]                # 문장\n",
    "        encode= self.tokenizer.encode(text) # 문자열 기반 토큰화\n",
    "        text_tokens_id= encode.ids          # \n",
    "\n",
    "        PAD_TOKEN_ID= self.tokenizer.token_to_id('[PAD]')\n",
    "        seq_len= len(text_tokens_id)        # idx번째 문서의 토큰 개수\n",
    "        result= None\n",
    "\n",
    "        if seq_len >= self.max_length:\n",
    "            result= text_tokens_id[:self.max_length]\n",
    "        else: # max_length보다 토큰수가 적으면 -> 뒤에 [PAD] 추가\n",
    "            result= text_tokens_id + ([PAD_TOKEN_ID] * (self.max_length - seq_len))\n",
    "\n",
    "        label= self.label[idx]\n",
    "\n",
    "        return (torch.tensor(result, dtype= torch.int64),\n",
    "                torch.tensor([label], dtype= torch.float32))\n",
    "    \n",
    "    def __len__(self):\n",
    "        return len(self.text)"
   ]
  },
  {
   "cell_type": "code",
   "execution_count": 31,
   "metadata": {},
   "outputs": [],
   "source": [
    "# Dataset 생성\n",
    "okt = Okt()\n",
    "train_texts = [text_preprocessing(txt, okt) for txt in corpus.train.texts]\n",
    "test_texts = [text_preprocessing(txt, okt) for txt in corpus.test.texts]"
   ]
  },
  {
   "cell_type": "code",
   "execution_count": 36,
   "metadata": {},
   "outputs": [],
   "source": [
    "MAX_LEN = 40\n",
    "\n",
    "train_set = NSMCDataset(\n",
    "    train_texts,\n",
    "    corpus.train.labels,\n",
    "    max_length= MAX_LEN,\n",
    "    tokenizer= tk\n",
    ")\n",
    "\n",
    "test_set = NSMCDataset(test_texts, corpus.test.labels, max_length= MAX_LEN, tokenizer= tk)"
   ]
  },
  {
   "cell_type": "code",
   "execution_count": 37,
   "metadata": {},
   "outputs": [],
   "source": [
    "# DataLoader\n",
    "BATCH_SIZE = 64\n",
    "train_loader = DataLoader(train_set, batch_size= BATCH_SIZE, shuffle= True, drop_last= True)\n",
    "test_loader = DataLoader(test_set, batch_size= BATCH_SIZE)"
   ]
  },
  {
   "cell_type": "code",
   "execution_count": null,
   "metadata": {},
   "outputs": [],
   "source": [
    "class NSMCModel(nn.Module):\n",
    "    def __init__(self, vocab_size, embedding_dim, hidden_size, num_layers, dropout_rate= 0):\n",
    "        super().__init__()"
   ]
  }
 ],
 "metadata": {
  "kernelspec": {
   "display_name": "env01",
   "language": "python",
   "name": "python3"
  },
  "language_info": {
   "codemirror_mode": {
    "name": "ipython",
    "version": 3
   },
   "file_extension": ".py",
   "mimetype": "text/x-python",
   "name": "python",
   "nbconvert_exporter": "python",
   "pygments_lexer": "ipython3",
   "version": "3.12.3"
  }
 },
 "nbformat": 4,
 "nbformat_minor": 2
}
